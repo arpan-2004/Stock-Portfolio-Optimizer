{
 "cells": [
  {
   "cell_type": "code",
   "id": "initial_id",
   "metadata": {
    "collapsed": true,
    "ExecuteTime": {
     "end_time": "2025-04-10T05:05:09.804835Z",
     "start_time": "2025-04-10T05:05:09.789746Z"
    }
   },
   "source": [
    "import requests\n",
    "from vaderSentiment.vaderSentiment import SentimentIntensityAnalyzer\n",
    "import pandas as pd"
   ],
   "outputs": [],
   "execution_count": 11
  },
  {
   "metadata": {
    "ExecuteTime": {
     "end_time": "2025-04-10T05:05:14.848653Z",
     "start_time": "2025-04-10T05:05:09.805877Z"
    }
   },
   "cell_type": "code",
   "source": "!pip install vaderSentiment",
   "id": "13d0b7a5886298ab",
   "outputs": [
    {
     "name": "stdout",
     "output_type": "stream",
     "text": [
      "Requirement already satisfied: vaderSentiment in c:\\users\\arpan\\anaconda3\\lib\\site-packages (3.3.2)\n",
      "Requirement already satisfied: requests in c:\\users\\arpan\\anaconda3\\lib\\site-packages (from vaderSentiment) (2.32.3)\n",
      "Requirement already satisfied: charset-normalizer<4,>=2 in c:\\users\\arpan\\anaconda3\\lib\\site-packages (from requests->vaderSentiment) (3.3.2)\n",
      "Requirement already satisfied: idna<4,>=2.5 in c:\\users\\arpan\\anaconda3\\lib\\site-packages (from requests->vaderSentiment) (3.7)\n",
      "Requirement already satisfied: urllib3<3,>=1.21.1 in c:\\users\\arpan\\anaconda3\\lib\\site-packages (from requests->vaderSentiment) (2.2.3)\n",
      "Requirement already satisfied: certifi>=2017.4.17 in c:\\users\\arpan\\anaconda3\\lib\\site-packages (from requests->vaderSentiment) (2024.12.14)\n"
     ]
    }
   ],
   "execution_count": 12
  },
  {
   "metadata": {
    "ExecuteTime": {
     "end_time": "2025-04-10T05:05:14.864577Z",
     "start_time": "2025-04-10T05:05:14.857113Z"
    }
   },
   "cell_type": "code",
   "source": [
    "# NewsAPI configuration\n",
    "api_key = 'fa5b58e3a9194da6bdbee7e966612157'\n",
    "search_query = 'Apple'  # Change to the stock/company you're interested in\n",
    "# Adjust the date to 2024-09-18 or later to fit within the free plan limits\n",
    "url = f'https://newsapi.org/v2/everything?q={search_query}&from=2024-09-18&sortBy=publishedAt&apiKey={api_key}'"
   ],
   "id": "3b3119c5c2fad1b9",
   "outputs": [],
   "execution_count": 13
  },
  {
   "metadata": {
    "ExecuteTime": {
     "end_time": "2025-04-10T05:05:15.638048Z",
     "start_time": "2025-04-10T05:05:14.911681Z"
    }
   },
   "cell_type": "code",
   "source": [
    "# Fetch news data\n",
    "response = requests.get(url)\n",
    "news_data = response.json()"
   ],
   "id": "6be0dc3e9c3e7fd",
   "outputs": [],
   "execution_count": 14
  },
  {
   "metadata": {
    "ExecuteTime": {
     "end_time": "2025-04-10T05:05:15.655122Z",
     "start_time": "2025-04-10T05:05:15.642123Z"
    }
   },
   "cell_type": "code",
   "source": [
    "# Debugging: Print the full response from the API\n",
    "print(news_data)"
   ],
   "id": "7c1951de8596b4f3",
   "outputs": [
    {
     "name": "stdout",
     "output_type": "stream",
     "text": [
      "{'status': 'error', 'code': 'parameterInvalid', 'message': 'You are trying to request results too far in the past. Your plan permits you to request articles as far back as 2025-03-09, but you have requested 2024-09-18. You may need to upgrade to a paid plan.'}\n"
     ]
    }
   ],
   "execution_count": 15
  },
  {
   "metadata": {
    "ExecuteTime": {
     "end_time": "2025-04-10T05:08:46.845175Z",
     "start_time": "2025-04-10T05:08:46.839412Z"
    }
   },
   "cell_type": "code",
   "source": [
    "# Check if 'articles' is in the response\n",
    "if 'articles' in news_data:\n",
    "    # Initialize VADER sentiment analyzer\n",
    "    analyzer = SentimentIntensityAnalyzer()"
   ],
   "id": "30b6c4c549a9b7d7",
   "outputs": [],
   "execution_count": 20
  },
  {
   "metadata": {
    "ExecuteTime": {
     "end_time": "2025-04-10T05:12:56.883057Z",
     "start_time": "2025-04-10T05:12:56.871142Z"
    }
   },
   "cell_type": "code",
   "source": [
    " # Analyze sentiment of each headline\n",
    "# Analyze sentiment of each headline\n",
    "if 'articles' in news_data:\n",
    "    news_sentiments = []\n",
    "    for article in news_data['articles']:\n",
    "        title = article['title']\n",
    "        sentiment_score = analyzer.polarity_scores(title)['compound']\n",
    "        news_sentiments.append({\n",
    "            'title': title,\n",
    "            'sentiment': sentiment_score\n",
    "        })\n",
    "         # Create a DataFrame\n",
    "        news_df = pd.DataFrame(news_sentiments)\n",
    "        # Save the data to CSV\n",
    "        news_df.to_csv('news_sentiment_data.csv', index=False)\n",
    "        print(news_df.head())\n",
    "else:\n",
    "    print(\"No articles found or an error occurred.\")\n"
   ],
   "id": "fba22ab18a0ca18b",
   "outputs": [
    {
     "name": "stdout",
     "output_type": "stream",
     "text": [
      "No articles found or an error occurred.\n"
     ]
    }
   ],
   "execution_count": 31
  }
 ],
 "metadata": {
  "kernelspec": {
   "display_name": "Python 3",
   "language": "python",
   "name": "python3"
  },
  "language_info": {
   "codemirror_mode": {
    "name": "ipython",
    "version": 2
   },
   "file_extension": ".py",
   "mimetype": "text/x-python",
   "name": "python",
   "nbconvert_exporter": "python",
   "pygments_lexer": "ipython2",
   "version": "2.7.6"
  }
 },
 "nbformat": 4,
 "nbformat_minor": 5
}
