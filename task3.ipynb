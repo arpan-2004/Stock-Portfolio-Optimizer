{
 "cells": [
  {
   "metadata": {
    "ExecuteTime": {
     "end_time": "2025-04-10T05:14:22.539234Z",
     "start_time": "2025-04-10T05:14:20.930951Z"
    }
   },
   "cell_type": "code",
   "source": "import pandas as pd",
   "id": "1c68010a15c8c07",
   "outputs": [],
   "execution_count": 1
  },
  {
   "metadata": {
    "ExecuteTime": {
     "end_time": "2025-04-10T05:15:05.058210Z",
     "start_time": "2025-04-10T05:15:05.044835Z"
    }
   },
   "cell_type": "code",
   "source": [
    "# Load stock data and sentiment data\n",
    "stock_data = pd.read_csv('historical_stock_data.csv')\n"
   ],
   "id": "ff9acd20d554260e",
   "outputs": [],
   "execution_count": 3
  },
  {
   "metadata": {
    "ExecuteTime": {
     "end_time": "2025-04-10T05:17:20.134705Z",
     "start_time": "2025-04-10T05:17:20.123581Z"
    }
   },
   "cell_type": "code",
   "source": "sentiment_data = pd.read_csv('news_sentiment_data.csv')\n",
   "id": "30f6c81e5be20aa",
   "outputs": [],
   "execution_count": 5
  },
  {
   "metadata": {
    "ExecuteTime": {
     "end_time": "2025-04-10T05:17:42.309072Z",
     "start_time": "2025-04-10T05:17:42.300203Z"
    }
   },
   "cell_type": "code",
   "source": [
    "# Print column names to debug the issue\n",
    "print(\"Stock data columns:\", stock_data.columns)\n",
    "print(\"Sentiment data columns:\", sentiment_data.columns)"
   ],
   "id": "7f774963d3f3c183",
   "outputs": [
    {
     "name": "stdout",
     "output_type": "stream",
     "text": [
      "Stock data columns: Index(['Price', 'Close', 'High', 'Low', 'Open', 'Volume'], dtype='object')\n",
      "Sentiment data columns: Index(['title', 'sentiment'], dtype='object')\n"
     ]
    }
   ],
   "execution_count": 6
  },
  {
   "metadata": {
    "ExecuteTime": {
     "end_time": "2025-04-10T05:17:54.795454Z",
     "start_time": "2025-04-10T05:17:54.774612Z"
    }
   },
   "cell_type": "code",
   "source": [
    "# Assuming the sentiment data might lack dates, we check for Date column\n",
    "# Add a 'Date' column with actual dates if available\n",
    "if 'Date' not in sentiment_data.columns:\n",
    "    sentiment_data['Date'] = pd.to_datetime('2024-10-15')  # Placeholder"
   ],
   "id": "cd5b9e7a2f154ac2",
   "outputs": [],
   "execution_count": 7
  },
  {
   "metadata": {
    "ExecuteTime": {
     "end_time": "2025-04-10T05:24:58.580296Z",
     "start_time": "2025-04-10T05:24:58.568857Z"
    }
   },
   "cell_type": "code",
   "source": [
    "if 'Date' not in stock_data.columns:\n",
    "    stock_data['Date'] = pd.to_datetime('2024-10-15')"
   ],
   "id": "32b390f08cf4b8f8",
   "outputs": [],
   "execution_count": 15
  },
  {
   "metadata": {
    "ExecuteTime": {
     "end_time": "2025-04-10T05:25:02.807964Z",
     "start_time": "2025-04-10T05:25:02.790142Z"
    }
   },
   "cell_type": "code",
   "source": [
    "# Convert 'Date' column to datetime in both datasets\n",
    "stock_data['Date'] = pd.to_datetime(stock_data['Date'])\n",
    "sentiment_data['Date'] = pd.to_datetime(sentiment_data['Date'])"
   ],
   "id": "326818b9210cf80d",
   "outputs": [],
   "execution_count": 16
  },
  {
   "metadata": {
    "ExecuteTime": {
     "end_time": "2025-04-10T05:23:38.681126Z",
     "start_time": "2025-04-10T05:23:38.674808Z"
    }
   },
   "cell_type": "code",
   "source": [
    "print(stock_data.columns)\n",
    "print(sentiment_data.columns)"
   ],
   "id": "4843d127ca412eca",
   "outputs": [
    {
     "name": "stdout",
     "output_type": "stream",
     "text": [
      "Index(['Price', 'Close', 'High', 'Low', 'Open', 'Volume'], dtype='object')\n",
      "Index(['title', 'sentiment', 'Date'], dtype='object')\n"
     ]
    }
   ],
   "execution_count": 14
  },
  {
   "metadata": {
    "ExecuteTime": {
     "end_time": "2025-04-10T05:22:18.236515Z",
     "start_time": "2025-04-10T05:22:18.225683Z"
    }
   },
   "cell_type": "code",
   "source": "stock_data.index = pd.to_datetime(stock_data.index)",
   "id": "992fd8f9cca80ca0",
   "outputs": [],
   "execution_count": 10
  },
  {
   "metadata": {
    "ExecuteTime": {
     "end_time": "2025-04-10T05:25:49.505820Z",
     "start_time": "2025-04-10T05:25:49.480604Z"
    }
   },
   "cell_type": "code",
   "source": [
    "# Merge datasets on 'Date' with outer join to keep all data points\n",
    "combined_data = pd.merge(stock_data, sentiment_data, on='Date', how='outer')"
   ],
   "id": "907cef37508b946b",
   "outputs": [],
   "execution_count": 17
  },
  {
   "metadata": {
    "ExecuteTime": {
     "end_time": "2025-04-10T05:26:03.034098Z",
     "start_time": "2025-04-10T05:26:03.021703Z"
    }
   },
   "cell_type": "code",
   "source": [
    "# Only keep weekdays (Monday to Friday)\n",
    "combined_data = combined_data[combined_data['Date'].dt.weekday < 5]"
   ],
   "id": "19af07ba5ab80973",
   "outputs": [],
   "execution_count": 18
  },
  {
   "metadata": {
    "ExecuteTime": {
     "end_time": "2025-04-10T05:26:15.020070Z",
     "start_time": "2025-04-10T05:26:15.009122Z"
    }
   },
   "cell_type": "code",
   "source": [
    "# Sort by Date before filling missing sentiment data\n",
    "combined_data.sort_values(by='Date', inplace=True)"
   ],
   "id": "582e231c213fb275",
   "outputs": [],
   "execution_count": 19
  },
  {
   "metadata": {
    "ExecuteTime": {
     "end_time": "2025-04-10T05:26:28.770584Z",
     "start_time": "2025-04-10T05:26:28.754812Z"
    }
   },
   "cell_type": "code",
   "source": [
    "# Forward fill and backward fill for missing sentiment values\n",
    "combined_data['sentiment'].ffill(inplace=True)  # Forward fill\n",
    "combined_data['sentiment'].bfill(inplace=True)  # Backward fill"
   ],
   "id": "7b3886411fd3fd98",
   "outputs": [
    {
     "name": "stderr",
     "output_type": "stream",
     "text": [
      "C:\\Users\\arpan\\AppData\\Local\\Temp\\ipykernel_32052\\10083696.py:2: FutureWarning: A value is trying to be set on a copy of a DataFrame or Series through chained assignment using an inplace method.\n",
      "The behavior will change in pandas 3.0. This inplace method will never work because the intermediate object on which we are setting values always behaves as a copy.\n",
      "\n",
      "For example, when doing 'df[col].method(value, inplace=True)', try using 'df.method({col: value}, inplace=True)' or df[col] = df[col].method(value) instead, to perform the operation inplace on the original object.\n",
      "\n",
      "\n",
      "  combined_data['sentiment'].ffill(inplace=True)  # Forward fill\n",
      "C:\\Users\\arpan\\AppData\\Local\\Temp\\ipykernel_32052\\10083696.py:3: FutureWarning: A value is trying to be set on a copy of a DataFrame or Series through chained assignment using an inplace method.\n",
      "The behavior will change in pandas 3.0. This inplace method will never work because the intermediate object on which we are setting values always behaves as a copy.\n",
      "\n",
      "For example, when doing 'df[col].method(value, inplace=True)', try using 'df.method({col: value}, inplace=True)' or df[col] = df[col].method(value) instead, to perform the operation inplace on the original object.\n",
      "\n",
      "\n",
      "  combined_data['sentiment'].bfill(inplace=True)  # Backward fill\n"
     ]
    }
   ],
   "execution_count": 20
  },
  {
   "metadata": {
    "ExecuteTime": {
     "end_time": "2025-04-10T05:26:49.899398Z",
     "start_time": "2025-04-10T05:26:49.858681Z"
    }
   },
   "cell_type": "code",
   "source": [
    "# Export the combined data for further use\n",
    "combined_data.to_csv('combined_stock_sentiment_data.csv', index=False)"
   ],
   "id": "abbe64c0c429dfae",
   "outputs": [],
   "execution_count": 21
  },
  {
   "metadata": {
    "ExecuteTime": {
     "end_time": "2025-04-10T05:26:59.511136Z",
     "start_time": "2025-04-10T05:26:59.496896Z"
    }
   },
   "cell_type": "code",
   "source": [
    "print(\"\\nCombined Data:\")\n",
    "print(combined_data)"
   ],
   "id": "55e86cdb16fdac57",
   "outputs": [
    {
     "name": "stdout",
     "output_type": "stream",
     "text": [
      "\n",
      "Combined Data:\n",
      "           Price               Close                High                 Low  \\\n",
      "0         Ticker                AAPL                AAPL                AAPL   \n",
      "1408  2024-10-04  226.30194091796875  227.49930262356304  223.63780617480538   \n",
      "1407  2024-10-04  226.30194091796875  227.49930262356304  223.63780617480538   \n",
      "1406  2024-10-04  226.30194091796875  227.49930262356304  223.63780617480538   \n",
      "1405  2024-10-04  226.30194091796875  227.49930262356304  223.63780617480538   \n",
      "...          ...                 ...                 ...                 ...   \n",
      "692   2024-09-24   226.8706817626953   228.8463445678705   225.2342838755063   \n",
      "691   2024-09-24   226.8706817626953   228.8463445678705   225.2342838755063   \n",
      "690   2024-09-24   226.8706817626953   228.8463445678705   225.2342838755063   \n",
      "688   2024-09-24   226.8706817626953   228.8463445678705   225.2342838755063   \n",
      "2099  2024-10-14  230.79205322265625  231.22110160659443  228.09798564307096   \n",
      "\n",
      "                    Open    Volume       Date  \\\n",
      "0                   AAPL      AAPL 2024-10-15   \n",
      "1408  227.39951613756347  37245100 2024-10-15   \n",
      "1407  227.39951613756347  37245100 2024-10-15   \n",
      "1406  227.39951613756347  37245100 2024-10-15   \n",
      "1405  227.39951613756347  37245100 2024-10-15   \n",
      "...                  ...       ...        ...   \n",
      "692   228.14786961487798  43556100 2024-10-15   \n",
      "691   228.14786961487798  43556100 2024-10-15   \n",
      "690   228.14786961487798  43556100 2024-10-15   \n",
      "688   228.14786961487798  43556100 2024-10-15   \n",
      "2099  228.19775690140833  39882100 2024-10-15   \n",
      "\n",
      "                                                  title  sentiment  \n",
      "0     Morning Bid: TSMC steadies chip ship, ECB set ...     0.3612  \n",
      "1408  iOS 18: Maximize your privacy by turning off t...     0.0000  \n",
      "1407  El iPhone arrasa contra las marcas chinas y nu...     0.0000  \n",
      "1406                               Autonomy of a Murder    -0.6908  \n",
      "1405  ‘Alien: Earth’ Star Adarsh Gourav Teases ‘Very...    -0.7096  \n",
      "...                                                 ...        ...  \n",
      "692   Neues Patent: Apple plant VR-Projektor in Glüh...     0.0000  \n",
      "691   America's chipmaking push will continue no mat...    -0.0191  \n",
      "690   TicWatch Atlas, Wear OS mira de tú a tú al App...     0.0000  \n",
      "688               The best MacBook accessories for 2024     0.6369  \n",
      "2099          iOS 18.2: Top Features & Hidden Upgrades!     0.2714  \n",
      "\n",
      "[2100 rows x 9 columns]\n"
     ]
    }
   ],
   "execution_count": 22
  }
 ],
 "metadata": {
  "kernelspec": {
   "display_name": "Python 3",
   "language": "python",
   "name": "python3"
  },
  "language_info": {
   "codemirror_mode": {
    "name": "ipython",
    "version": 2
   },
   "file_extension": ".py",
   "mimetype": "text/x-python",
   "name": "python",
   "nbconvert_exporter": "python",
   "pygments_lexer": "ipython2",
   "version": "2.7.6"
  }
 },
 "nbformat": 4,
 "nbformat_minor": 5
}
